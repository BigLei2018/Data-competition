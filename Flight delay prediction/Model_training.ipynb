{
 "cells": [
  {
   "cell_type": "markdown",
   "metadata": {},
   "source": [
    "# 模型训练\n",
    "*说明：我们总共尝试了三个模型训练数据，分别为：xgboost，GBDT，GBDT+LR。其中GBDT+LR方法由于电脑配置的限制，在使用GBDT生成的特征这一阶段，模型的复杂度设置比较低，没有完全学习出样本的信息，致使再使用LR产生的结果并不好，而选用复杂的模型设置，导致生成特征比较多，导致电脑直接死机，所以后面没再尝试，如果硬件可以，可以尝试这一方法，或者尝试GBDT+PCA+LR（这一想法没来得及尝试）。xgboost做了两次尝试都没有GBDT结果好，所以最终选择了GBDT模型训练数据，结果中最好的参数设置见GBM训练那一节。在特征方面，画出特征的重要性图，有些特征对模型的贡献虽然比较小，但是如果去掉的话会影响模型的性能。*\n",
    "\n",
    "**目录**\n",
    "1. 读取训练集和测试集\n",
    "2. 编码数据集\n",
    "3. 优化内存\n",
    "4. 展示部分测试集和训练集\n",
    "5. 模型训练\n",
    "6. 特征重要性图\n",
    "7. 结果保存"
   ]
  },
  {
   "cell_type": "markdown",
   "metadata": {},
   "source": [
    "# 读取训练集和测试集"
   ]
  },
  {
   "cell_type": "code",
   "execution_count": 1,
   "metadata": {},
   "outputs": [],
   "source": [
    "import numpy as np\n",
    "import pandas as pd\n",
    "import matplotlib.pyplot as plt\n",
    "import os\n",
    "from sklearn import metrics\n",
    "# from sklearn.cross_validation import train_test_split\n",
    "from sklearn import preprocessing\n",
    "import pickle\n",
    "# 获取当前的工作目录\n",
    "pwd = os.getcwd()\n",
    "# 将工作目录更改到训练集\n",
    "os.chdir(\"处理后训练集\")\n",
    "# ——————————————————————————读取训练数据—————————————————————————————— #\n",
    "# 航班数据\n",
    "with open('colums_type.pickle','rb') as f:\n",
    "    colums_types = pickle.load(f)\n",
    "train_data = pd.read_table('train_data1.csv',sep=',',encoding='gb2312',dtype=colums_types)\n",
    "os.chdir(pwd)\n",
    "# 改回原来工作目录\n",
    "\n",
    "# 填充缺失值\n",
    "train_data['到达天气'] = train_data['到达天气'].astype('object')\n",
    "train_data['到达天气']=train_data['到达天气'].fillna('0')\n",
    "train_data['出发天气'] = train_data['出发天气'].astype('object')\n",
    "train_data['出发天气']=train_data['出发天气'].fillna('0')\n",
    "train_data['前序延误']=train_data['前序延误'].fillna(train_data['前序延误'].mean()) #均值填充\n",
    "train_data['出发气温'] = train_data['出发气温'].astype('object')\n",
    "train_data['出发气温']=train_data['出发气温'].fillna('一般')\n",
    "train_data['到达气温'] = train_data['到达气温'].astype('object')\n",
    "train_data['到达气温']=train_data['到达气温'].fillna('一般')\n",
    "train_data['起飞间隔'] = train_data['起飞间隔'].fillna(train_data['起飞间隔'].mean())#均值填充\n",
    "# train_data = train_data.dropna()\n",
    "# 分类变量\n",
    "targets = np.where(train_data['起飞延误时间']>3,1,0)\n",
    "\n",
    "del(train_data['起飞延误时间'])\n",
    "\n",
    "# ——————————————————————————读取测试数据—————————————————————————————— #\n",
    "# 工作目录更改到测试集以读取数据\n",
    "os.chdir(\"处理后测试集\")\n",
    "# 航班数据\n",
    "test_data = pd.read_table('test_data1.csv',sep=',',encoding='gb2312')\n",
    "# 改回工作目录\n",
    "os.chdir(pwd)\n",
    "train_columns = train_data.columns\n",
    "test_data = test_data[train_columns]\n",
    "# 填充缺失值\n",
    "test_data['到达天气'] = test_data['到达天气'].astype('object')\n",
    "test_data['到达天气']=test_data['到达天气'].fillna('0')\n",
    "test_data['出发天气'] = test_data['出发天气'].astype('object')\n",
    "test_data['出发天气']=test_data['出发天气'].fillna('0')\n",
    "test_data['前序延误']=test_data['前序延误'].fillna(test_data['前序延误'].mean()) #均值填充\n",
    "test_data['出发气温'] = test_data['出发气温'].astype('object')\n",
    "test_data['出发气温']=test_data['出发气温'].fillna('一般')\n",
    "test_data['到达气温'] = test_data['到达气温'].astype('object')\n",
    "test_data['到达气温']=test_data['到达气温'].fillna('一般')\n",
    "test_data['起飞间隔'] = test_data['起飞间隔'].fillna(train_data['起飞间隔'].mean()) #均值填充"
   ]
  },
  {
   "cell_type": "markdown",
   "metadata": {},
   "source": [
    "# 编码数据集"
   ]
  },
  {
   "cell_type": "code",
   "execution_count": 2,
   "metadata": {
    "collapsed": true
   },
   "outputs": [],
   "source": [
    "# 对字符型数据编码\n",
    "columns = ['出发机场', '到达机场', '出发天气', '到达天气','航班编号','出发气温','到达气温','航空公司']\n",
    "\n",
    "le = preprocessing.LabelEncoder()\n",
    "for col in columns :\n",
    "    train_data[col] = le.fit_transform(train_data[col])\n",
    "#     未见过的字符加进去\n",
    "    clas = list(le.classes_)\n",
    "    clas = clas + list(test_data[col])\n",
    "    le.classes_ = np.array(np.unique(clas))\n",
    "    \n",
    "    test_data[col] = le.transform(test_data[col])"
   ]
  },
  {
   "cell_type": "markdown",
   "metadata": {},
   "source": [
    "# 优化内存"
   ]
  },
  {
   "cell_type": "code",
   "execution_count": 3,
   "metadata": {
    "collapsed": true
   },
   "outputs": [],
   "source": [
    "# # 优化内存\n",
    "for i in train_data.columns:\n",
    "    if train_data[i].dtypes == 'int64':\n",
    "        train_data[i] = pd.to_numeric(train_data[i],errors='ignore',downcast='unsigned')\n",
    "        test_data[i] = pd.to_numeric(test_data[i],errors='ignore',downcast='unsigned')\n",
    "    elif train_data[i].dtypes == 'float64':\n",
    "        train_data[i] = pd.to_numeric(train_data[i],errors='ignore',downcast='float')\n",
    "        test_data[i] = pd.to_numeric(test_data[i],errors='ignore',downcast='float')"
   ]
  },
  {
   "cell_type": "markdown",
   "metadata": {},
   "source": [
    "# 展示部分测试集和训练集"
   ]
  },
  {
   "cell_type": "code",
   "execution_count": 4,
   "metadata": {},
   "outputs": [
    {
     "data": {
      "text/html": [
       "<div>\n",
       "<table border=\"1\" class=\"dataframe\">\n",
       "  <thead>\n",
       "    <tr style=\"text-align: right;\">\n",
       "      <th></th>\n",
       "      <th>出发机场</th>\n",
       "      <th>到达机场</th>\n",
       "      <th>航班编号</th>\n",
       "      <th>飞机编号</th>\n",
       "      <th>计划飞行时间</th>\n",
       "      <th>计划起飞时刻</th>\n",
       "      <th>航班月份</th>\n",
       "      <th>计划到达时刻</th>\n",
       "      <th>前序延误</th>\n",
       "      <th>起飞间隔</th>\n",
       "      <th>到达特情</th>\n",
       "      <th>出发特情</th>\n",
       "      <th>出发天气</th>\n",
       "      <th>出发气温</th>\n",
       "      <th>到达天气</th>\n",
       "      <th>到达气温</th>\n",
       "      <th>航空公司</th>\n",
       "      <th>航班性质</th>\n",
       "    </tr>\n",
       "  </thead>\n",
       "  <tbody>\n",
       "    <tr>\n",
       "      <th>0</th>\n",
       "      <td>160</td>\n",
       "      <td>375</td>\n",
       "      <td>25554</td>\n",
       "      <td>0.0</td>\n",
       "      <td>2.333333</td>\n",
       "      <td>23</td>\n",
       "      <td>7</td>\n",
       "      <td>1</td>\n",
       "      <td>0.668666</td>\n",
       "      <td>4.503409</td>\n",
       "      <td>0</td>\n",
       "      <td>0</td>\n",
       "      <td>0</td>\n",
       "      <td>0</td>\n",
       "      <td>117</td>\n",
       "      <td>0</td>\n",
       "      <td>128</td>\n",
       "      <td>1</td>\n",
       "    </tr>\n",
       "    <tr>\n",
       "      <th>1</th>\n",
       "      <td>160</td>\n",
       "      <td>300</td>\n",
       "      <td>25554</td>\n",
       "      <td>0.0</td>\n",
       "      <td>6.166667</td>\n",
       "      <td>23</td>\n",
       "      <td>7</td>\n",
       "      <td>5</td>\n",
       "      <td>0.668666</td>\n",
       "      <td>4.503409</td>\n",
       "      <td>0</td>\n",
       "      <td>0</td>\n",
       "      <td>0</td>\n",
       "      <td>0</td>\n",
       "      <td>95</td>\n",
       "      <td>0</td>\n",
       "      <td>128</td>\n",
       "      <td>1</td>\n",
       "    </tr>\n",
       "    <tr>\n",
       "      <th>2</th>\n",
       "      <td>427</td>\n",
       "      <td>165</td>\n",
       "      <td>25450</td>\n",
       "      <td>0.0</td>\n",
       "      <td>1.416667</td>\n",
       "      <td>23</td>\n",
       "      <td>7</td>\n",
       "      <td>0</td>\n",
       "      <td>0.668666</td>\n",
       "      <td>4.503409</td>\n",
       "      <td>0</td>\n",
       "      <td>0</td>\n",
       "      <td>0</td>\n",
       "      <td>0</td>\n",
       "      <td>102</td>\n",
       "      <td>0</td>\n",
       "      <td>128</td>\n",
       "      <td>1</td>\n",
       "    </tr>\n",
       "    <tr>\n",
       "      <th>3</th>\n",
       "      <td>427</td>\n",
       "      <td>367</td>\n",
       "      <td>25450</td>\n",
       "      <td>0.0</td>\n",
       "      <td>3.666667</td>\n",
       "      <td>23</td>\n",
       "      <td>7</td>\n",
       "      <td>2</td>\n",
       "      <td>0.668666</td>\n",
       "      <td>4.503409</td>\n",
       "      <td>0</td>\n",
       "      <td>0</td>\n",
       "      <td>0</td>\n",
       "      <td>0</td>\n",
       "      <td>95</td>\n",
       "      <td>0</td>\n",
       "      <td>128</td>\n",
       "      <td>1</td>\n",
       "    </tr>\n",
       "    <tr>\n",
       "      <th>4</th>\n",
       "      <td>218</td>\n",
       "      <td>452</td>\n",
       "      <td>1393</td>\n",
       "      <td>0.0</td>\n",
       "      <td>1.833333</td>\n",
       "      <td>23</td>\n",
       "      <td>7</td>\n",
       "      <td>1</td>\n",
       "      <td>0.668666</td>\n",
       "      <td>4.503409</td>\n",
       "      <td>0</td>\n",
       "      <td>0</td>\n",
       "      <td>0</td>\n",
       "      <td>0</td>\n",
       "      <td>97</td>\n",
       "      <td>0</td>\n",
       "      <td>6</td>\n",
       "      <td>1</td>\n",
       "    </tr>\n",
       "  </tbody>\n",
       "</table>\n",
       "</div>"
      ],
      "text/plain": [
       "   出发机场  到达机场   航班编号  飞机编号    计划飞行时间  计划起飞时刻  航班月份  计划到达时刻      前序延误  \\\n",
       "0   160   375  25554   0.0  2.333333      23     7       1  0.668666   \n",
       "1   160   300  25554   0.0  6.166667      23     7       5  0.668666   \n",
       "2   427   165  25450   0.0  1.416667      23     7       0  0.668666   \n",
       "3   427   367  25450   0.0  3.666667      23     7       2  0.668666   \n",
       "4   218   452   1393   0.0  1.833333      23     7       1  0.668666   \n",
       "\n",
       "       起飞间隔  到达特情  出发特情  出发天气  出发气温  到达天气  到达气温  航空公司  航班性质  \n",
       "0  4.503409     0     0     0     0   117     0   128     1  \n",
       "1  4.503409     0     0     0     0    95     0   128     1  \n",
       "2  4.503409     0     0     0     0   102     0   128     1  \n",
       "3  4.503409     0     0     0     0    95     0   128     1  \n",
       "4  4.503409     0     0     0     0    97     0     6     1  "
      ]
     },
     "execution_count": 4,
     "metadata": {},
     "output_type": "execute_result"
    }
   ],
   "source": [
    "test_data.head()"
   ]
  },
  {
   "cell_type": "code",
   "execution_count": 5,
   "metadata": {},
   "outputs": [
    {
     "data": {
      "text/html": [
       "<div>\n",
       "<table border=\"1\" class=\"dataframe\">\n",
       "  <thead>\n",
       "    <tr style=\"text-align: right;\">\n",
       "      <th></th>\n",
       "      <th>出发机场</th>\n",
       "      <th>到达机场</th>\n",
       "      <th>航班编号</th>\n",
       "      <th>飞机编号</th>\n",
       "      <th>计划飞行时间</th>\n",
       "      <th>计划起飞时刻</th>\n",
       "      <th>航班月份</th>\n",
       "      <th>计划到达时刻</th>\n",
       "      <th>前序延误</th>\n",
       "      <th>起飞间隔</th>\n",
       "      <th>到达特情</th>\n",
       "      <th>出发特情</th>\n",
       "      <th>出发天气</th>\n",
       "      <th>出发气温</th>\n",
       "      <th>到达天气</th>\n",
       "      <th>到达气温</th>\n",
       "      <th>航空公司</th>\n",
       "      <th>航班性质</th>\n",
       "    </tr>\n",
       "  </thead>\n",
       "  <tbody>\n",
       "    <tr>\n",
       "      <th>0</th>\n",
       "      <td>188</td>\n",
       "      <td>222</td>\n",
       "      <td>1388</td>\n",
       "      <td>0.0</td>\n",
       "      <td>1.083333</td>\n",
       "      <td>16</td>\n",
       "      <td>4</td>\n",
       "      <td>17</td>\n",
       "      <td>0.458432</td>\n",
       "      <td>4.511399</td>\n",
       "      <td>0</td>\n",
       "      <td>0</td>\n",
       "      <td>0</td>\n",
       "      <td>0</td>\n",
       "      <td>0</td>\n",
       "      <td>0</td>\n",
       "      <td>6</td>\n",
       "      <td>0</td>\n",
       "    </tr>\n",
       "    <tr>\n",
       "      <th>1</th>\n",
       "      <td>188</td>\n",
       "      <td>222</td>\n",
       "      <td>1392</td>\n",
       "      <td>0.0</td>\n",
       "      <td>0.833333</td>\n",
       "      <td>17</td>\n",
       "      <td>4</td>\n",
       "      <td>18</td>\n",
       "      <td>0.458432</td>\n",
       "      <td>-0.516667</td>\n",
       "      <td>0</td>\n",
       "      <td>0</td>\n",
       "      <td>0</td>\n",
       "      <td>0</td>\n",
       "      <td>0</td>\n",
       "      <td>0</td>\n",
       "      <td>6</td>\n",
       "      <td>0</td>\n",
       "    </tr>\n",
       "    <tr>\n",
       "      <th>2</th>\n",
       "      <td>320</td>\n",
       "      <td>149</td>\n",
       "      <td>12602</td>\n",
       "      <td>0.0</td>\n",
       "      <td>2.250000</td>\n",
       "      <td>21</td>\n",
       "      <td>4</td>\n",
       "      <td>0</td>\n",
       "      <td>0.458432</td>\n",
       "      <td>3.483333</td>\n",
       "      <td>0</td>\n",
       "      <td>0</td>\n",
       "      <td>0</td>\n",
       "      <td>0</td>\n",
       "      <td>17</td>\n",
       "      <td>0</td>\n",
       "      <td>59</td>\n",
       "      <td>1</td>\n",
       "    </tr>\n",
       "    <tr>\n",
       "      <th>3</th>\n",
       "      <td>320</td>\n",
       "      <td>100</td>\n",
       "      <td>3658</td>\n",
       "      <td>0.0</td>\n",
       "      <td>2.166667</td>\n",
       "      <td>22</td>\n",
       "      <td>4</td>\n",
       "      <td>0</td>\n",
       "      <td>0.458432</td>\n",
       "      <td>-1.633333</td>\n",
       "      <td>0</td>\n",
       "      <td>0</td>\n",
       "      <td>0</td>\n",
       "      <td>0</td>\n",
       "      <td>97</td>\n",
       "      <td>0</td>\n",
       "      <td>32</td>\n",
       "      <td>1</td>\n",
       "    </tr>\n",
       "    <tr>\n",
       "      <th>4</th>\n",
       "      <td>136</td>\n",
       "      <td>363</td>\n",
       "      <td>10345</td>\n",
       "      <td>0.0</td>\n",
       "      <td>1.166667</td>\n",
       "      <td>22</td>\n",
       "      <td>4</td>\n",
       "      <td>23</td>\n",
       "      <td>0.458432</td>\n",
       "      <td>4.511399</td>\n",
       "      <td>0</td>\n",
       "      <td>0</td>\n",
       "      <td>0</td>\n",
       "      <td>0</td>\n",
       "      <td>0</td>\n",
       "      <td>0</td>\n",
       "      <td>44</td>\n",
       "      <td>1</td>\n",
       "    </tr>\n",
       "  </tbody>\n",
       "</table>\n",
       "</div>"
      ],
      "text/plain": [
       "   出发机场  到达机场   航班编号  飞机编号    计划飞行时间  计划起飞时刻  航班月份  计划到达时刻      前序延误  \\\n",
       "0   188   222   1388   0.0  1.083333      16     4      17  0.458432   \n",
       "1   188   222   1392   0.0  0.833333      17     4      18  0.458432   \n",
       "2   320   149  12602   0.0  2.250000      21     4       0  0.458432   \n",
       "3   320   100   3658   0.0  2.166667      22     4       0  0.458432   \n",
       "4   136   363  10345   0.0  1.166667      22     4      23  0.458432   \n",
       "\n",
       "       起飞间隔  到达特情  出发特情  出发天气  出发气温  到达天气  到达气温  航空公司  航班性质  \n",
       "0  4.511399     0     0     0     0     0     0     6     0  \n",
       "1 -0.516667     0     0     0     0     0     0     6     0  \n",
       "2  3.483333     0     0     0     0    17     0    59     1  \n",
       "3 -1.633333     0     0     0     0    97     0    32     1  \n",
       "4  4.511399     0     0     0     0     0     0    44     1  "
      ]
     },
     "execution_count": 5,
     "metadata": {},
     "output_type": "execute_result"
    }
   ],
   "source": [
    "train_data.head()"
   ]
  },
  {
   "cell_type": "markdown",
   "metadata": {},
   "source": [
    "# 模型训练"
   ]
  },
  {
   "cell_type": "markdown",
   "metadata": {},
   "source": [
    "## GBDT训练"
   ]
  },
  {
   "cell_type": "code",
   "execution_count": 4,
   "metadata": {
    "collapsed": true
   },
   "outputs": [],
   "source": [
    "from sklearn.ensemble import GradientBoostingClassifier\n",
    "test = test_data.copy()\n",
    "# 设置参数\n",
    "gbdt = GradientBoostingClassifier(loss='exponential',n_estimators=300,max_depth=10,learning_rate=0.08,min_samples_leaf=500,subsample=0.8)\n",
    "# 训练\n",
    "gbdt.fit(train_data,targets)\n",
    "# 预测结果\n",
    "pre_y = gbdt.predict_proba(test)[:,1]"
   ]
  },
  {
   "cell_type": "markdown",
   "metadata": {
    "collapsed": true
   },
   "source": [
    "# 特征重要性图"
   ]
  },
  {
   "cell_type": "code",
   "execution_count": 109,
   "metadata": {},
   "outputs": [
    {
     "data": {
      "image/png": "[encoded data removed]",
      "text/plain": [
       "<matplotlib.figure.Figure at 0x1a2f76fd208>"
      ]
     },
     "metadata": {},
     "output_type": "display_data"
    }
   ],
   "source": [
    "import matplotlib.pyplot as plt\n",
    "features = list(train_data.columns)\n",
    "feature_important = gbdt.feature_importances_\n",
    "# feature_important = xgb.feature_importances_\n",
    "plt.figure(figsize=(12,8))\n",
    "plt.bar(np.arange(len(features)),feature_important)\n",
    "plt.xticks(np.arange(len(features)),features,fontsize=12,rotation=10)\n",
    "plt.show()"
   ]
  },
  {
   "cell_type": "code",
   "execution_count": null,
   "metadata": {},
   "outputs": [],
   "source": []
  },
  {
   "cell_type": "markdown",
   "metadata": {},
   "source": [
    "# 结果保存"
   ]
  },
  {
   "cell_type": "code",
   "execution_count": 6,
   "metadata": {
    "collapsed": true
   },
   "outputs": [],
   "source": [
    "test_data = pd.read_table('test_data1.csv',sep=',',encoding='gb2312')\n",
    "result = pd.DataFrame()\n",
    "result['Flightno'] = test_data['航班编号']\n",
    "result['FlightDepcode'] = test_data['出发机场']\n",
    "result['FlightArrcode'] = test_data['到达机场']\n",
    "result['PlannedDeptime'] = test_data['计划出发时间']\n",
    "result['PlannedArrtime'] = test_data['计划到达时间']\n",
    "result['prob'] = pre_y\n",
    "# 将结果保存到文件，# 注意这个处理完的数据集保存在了当前文件夹下-----‘结果’\n",
    "os.chdir(\"结果\")\n",
    "result.to_csv('result.csv',index=False)\n",
    "os.chdir(pwd)"
   ]
  },
  {
   "cell_type": "code",
   "execution_count": 112,
   "metadata": {
    "collapsed": true
   },
   "outputs": [],
   "source": []
  }
 ],
 "metadata": {
  "kernelspec": {
   "display_name": "Python 3",
   "language": "python",
   "name": "python3"
  },
  "language_info": {
   "codemirror_mode": {
    "name": "ipython",
    "version": 3
   },
   "file_extension": ".py",
   "mimetype": "text/x-python",
   "name": "python",
   "nbconvert_exporter": "python",
   "pygments_lexer": "ipython3",
   "version": "3.6.0"
  }
 },
 "nbformat": 4,
 "nbformat_minor": 2
}
